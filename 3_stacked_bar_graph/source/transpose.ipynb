{
 "cells": [
  {
   "cell_type": "code",
   "execution_count": 1,
   "metadata": {},
   "outputs": [],
   "source": [
    "import pandas as pd"
   ]
  },
  {
   "cell_type": "code",
   "execution_count": 2,
   "metadata": {},
   "outputs": [],
   "source": [
    "file_path = './human-condition_combined.csv'\n",
    "df = pd.read_csv(file_path)"
   ]
  },
  {
   "cell_type": "code",
   "execution_count": 4,
   "metadata": {},
   "outputs": [
    {
     "data": {
      "text/html": [
       "<div>\n",
       "<style scoped>\n",
       "    .dataframe tbody tr th:only-of-type {\n",
       "        vertical-align: middle;\n",
       "    }\n",
       "\n",
       "    .dataframe tbody tr th {\n",
       "        vertical-align: top;\n",
       "    }\n",
       "\n",
       "    .dataframe thead th {\n",
       "        text-align: right;\n",
       "    }\n",
       "</style>\n",
       "<table border=\"1\" class=\"dataframe\">\n",
       "  <thead>\n",
       "    <tr style=\"text-align: right;\">\n",
       "      <th></th>\n",
       "      <th>0</th>\n",
       "      <th>1</th>\n",
       "      <th>2</th>\n",
       "      <th>3</th>\n",
       "      <th>4</th>\n",
       "      <th>5</th>\n",
       "      <th>6</th>\n",
       "      <th>7</th>\n",
       "      <th>8</th>\n",
       "      <th>9</th>\n",
       "      <th>...</th>\n",
       "      <th>311</th>\n",
       "      <th>312</th>\n",
       "      <th>313</th>\n",
       "      <th>314</th>\n",
       "      <th>315</th>\n",
       "      <th>316</th>\n",
       "      <th>317</th>\n",
       "      <th>318</th>\n",
       "      <th>319</th>\n",
       "      <th>320</th>\n",
       "    </tr>\n",
       "  </thead>\n",
       "  <tbody>\n",
       "    <tr>\n",
       "      <th>SRR8392699</th>\n",
       "      <td>SRR8392700</td>\n",
       "      <td>SRR8392703</td>\n",
       "      <td>SRR8392704</td>\n",
       "      <td>SRR8392707</td>\n",
       "      <td>SRR8392708</td>\n",
       "      <td>SRR8392711</td>\n",
       "      <td>SRR8392712</td>\n",
       "      <td>SRR2522096</td>\n",
       "      <td>SRR2522099</td>\n",
       "      <td>SRR2522102</td>\n",
       "      <td>...</td>\n",
       "      <td>SRR5756350</td>\n",
       "      <td>SRR5756351</td>\n",
       "      <td>SRR3000786</td>\n",
       "      <td>SRR3000787</td>\n",
       "      <td>SRR5749642</td>\n",
       "      <td>SRR5749643</td>\n",
       "      <td>SRR5749644</td>\n",
       "      <td>SRR5749645</td>\n",
       "      <td>SRR5749646</td>\n",
       "      <td>SRR5749647</td>\n",
       "    </tr>\n",
       "    <tr>\n",
       "      <th>44℃:120min.</th>\n",
       "      <td>44℃:120min.</td>\n",
       "      <td>44℃:120min.</td>\n",
       "      <td>44℃:120min.</td>\n",
       "      <td>44℃:120min.</td>\n",
       "      <td>44℃:120min.</td>\n",
       "      <td>44℃:120min.</td>\n",
       "      <td>44℃:120min.</td>\n",
       "      <td>42℃:160min.</td>\n",
       "      <td>42℃:160min.</td>\n",
       "      <td>42℃:160min.</td>\n",
       "      <td>...</td>\n",
       "      <td>44℃:120min.</td>\n",
       "      <td>44℃:120min.</td>\n",
       "      <td>43℃:240min.</td>\n",
       "      <td>43℃:240min.</td>\n",
       "      <td>43℃:30min.</td>\n",
       "      <td>43℃:30min.</td>\n",
       "      <td>43℃:30min.</td>\n",
       "      <td>43℃:30min.</td>\n",
       "      <td>43℃:30min.</td>\n",
       "      <td>43℃:30min.</td>\n",
       "    </tr>\n",
       "  </tbody>\n",
       "</table>\n",
       "<p>2 rows × 321 columns</p>\n",
       "</div>"
      ],
      "text/plain": [
       "                     0            1            2            3            4    \\\n",
       "SRR8392699    SRR8392700   SRR8392703   SRR8392704   SRR8392707   SRR8392708   \n",
       "44℃:120min.  44℃:120min.  44℃:120min.  44℃:120min.  44℃:120min.  44℃:120min.   \n",
       "\n",
       "                     5            6            7            8            9    \\\n",
       "SRR8392699    SRR8392711   SRR8392712   SRR2522096   SRR2522099   SRR2522102   \n",
       "44℃:120min.  44℃:120min.  44℃:120min.  42℃:160min.  42℃:160min.  42℃:160min.   \n",
       "\n",
       "             ...          311          312          313          314  \\\n",
       "SRR8392699   ...   SRR5756350   SRR5756351   SRR3000786   SRR3000787   \n",
       "44℃:120min.  ...  44℃:120min.  44℃:120min.  43℃:240min.  43℃:240min.   \n",
       "\n",
       "                    315         316         317         318         319  \\\n",
       "SRR8392699   SRR5749642  SRR5749643  SRR5749644  SRR5749645  SRR5749646   \n",
       "44℃:120min.  43℃:30min.  43℃:30min.  43℃:30min.  43℃:30min.  43℃:30min.   \n",
       "\n",
       "                    320  \n",
       "SRR8392699   SRR5749647  \n",
       "44℃:120min.  43℃:30min.  \n",
       "\n",
       "[2 rows x 321 columns]"
      ]
     },
     "execution_count": 4,
     "metadata": {},
     "output_type": "execute_result"
    }
   ],
   "source": [
    "df_transposed = df.T\n",
    "df_transposed.head()"
   ]
  },
  {
   "cell_type": "code",
   "execution_count": 6,
   "metadata": {},
   "outputs": [],
   "source": [
    "df_transposed.to_csv('./human-condition_combined_transposed.csv', index=False)"
   ]
  }
 ],
 "metadata": {
  "kernelspec": {
   "display_name": "Python 3",
   "language": "python",
   "name": "python3"
  },
  "language_info": {
   "codemirror_mode": {
    "name": "ipython",
    "version": 3
   },
   "file_extension": ".py",
   "mimetype": "text/x-python",
   "name": "python",
   "nbconvert_exporter": "python",
   "pygments_lexer": "ipython3",
   "version": "3.11.3"
  },
  "orig_nbformat": 4
 },
 "nbformat": 4,
 "nbformat_minor": 2
}
