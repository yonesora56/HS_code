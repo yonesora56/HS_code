{
 "cells": [
  {
   "cell_type": "code",
   "execution_count": 1,
   "metadata": {},
   "outputs": [],
   "source": [
    "import pandas as pd"
   ]
  },
  {
   "cell_type": "code",
   "execution_count": 2,
   "metadata": {},
   "outputs": [],
   "source": [
    "file_path = './mouse-condition_combined.csv'\n",
    "df = pd.read_csv(file_path)"
   ]
  },
  {
   "cell_type": "code",
   "execution_count": 3,
   "metadata": {},
   "outputs": [
    {
     "data": {
      "text/html": [
       "<div>\n",
       "<style scoped>\n",
       "    .dataframe tbody tr th:only-of-type {\n",
       "        vertical-align: middle;\n",
       "    }\n",
       "\n",
       "    .dataframe tbody tr th {\n",
       "        vertical-align: top;\n",
       "    }\n",
       "\n",
       "    .dataframe thead th {\n",
       "        text-align: right;\n",
       "    }\n",
       "</style>\n",
       "<table border=\"1\" class=\"dataframe\">\n",
       "  <thead>\n",
       "    <tr style=\"text-align: right;\">\n",
       "      <th></th>\n",
       "      <th>0</th>\n",
       "      <th>1</th>\n",
       "      <th>2</th>\n",
       "      <th>3</th>\n",
       "      <th>4</th>\n",
       "      <th>5</th>\n",
       "      <th>6</th>\n",
       "      <th>7</th>\n",
       "      <th>8</th>\n",
       "      <th>9</th>\n",
       "      <th>...</th>\n",
       "      <th>231</th>\n",
       "      <th>232</th>\n",
       "      <th>233</th>\n",
       "      <th>234</th>\n",
       "      <th>235</th>\n",
       "      <th>236</th>\n",
       "      <th>237</th>\n",
       "      <th>238</th>\n",
       "      <th>239</th>\n",
       "      <th>240</th>\n",
       "    </tr>\n",
       "  </thead>\n",
       "  <tbody>\n",
       "    <tr>\n",
       "      <th>SRR9601002</th>\n",
       "      <td>SRR9601003</td>\n",
       "      <td>SRR9601008</td>\n",
       "      <td>SRR9601009</td>\n",
       "      <td>SRR9601010</td>\n",
       "      <td>SRR2068908</td>\n",
       "      <td>SRR2068909</td>\n",
       "      <td>SRR2068912</td>\n",
       "      <td>SRR2068913</td>\n",
       "      <td>SRR12044994</td>\n",
       "      <td>SRR12044995</td>\n",
       "      <td>...</td>\n",
       "      <td>SRR11684190</td>\n",
       "      <td>SRR11684182</td>\n",
       "      <td>SRR11684183</td>\n",
       "      <td>SRR11684184</td>\n",
       "      <td>SRR11684185</td>\n",
       "      <td>SRR11684186</td>\n",
       "      <td>SRR7463322</td>\n",
       "      <td>SRR7463323</td>\n",
       "      <td>SRR7463324</td>\n",
       "      <td>SRR7463325</td>\n",
       "    </tr>\n",
       "    <tr>\n",
       "      <th>45℃:60min.</th>\n",
       "      <td>45℃:60min.</td>\n",
       "      <td>45℃:60min.</td>\n",
       "      <td>45℃:60min.</td>\n",
       "      <td>45℃:60min.</td>\n",
       "      <td>39℃:60min.</td>\n",
       "      <td>39℃:60min.</td>\n",
       "      <td>39℃:60min.</td>\n",
       "      <td>39℃:60min.</td>\n",
       "      <td>39℃:180min.</td>\n",
       "      <td>39℃:180min.</td>\n",
       "      <td>...</td>\n",
       "      <td>42℃:20min.</td>\n",
       "      <td>42℃:20min.</td>\n",
       "      <td>42℃:20min.</td>\n",
       "      <td>42℃:20min.</td>\n",
       "      <td>42℃:20min.</td>\n",
       "      <td>42℃:20min.</td>\n",
       "      <td>43℃:30min.</td>\n",
       "      <td>43℃:30min.</td>\n",
       "      <td>43℃:30min.</td>\n",
       "      <td>43℃:30min.</td>\n",
       "    </tr>\n",
       "  </tbody>\n",
       "</table>\n",
       "<p>2 rows × 241 columns</p>\n",
       "</div>"
      ],
      "text/plain": [
       "                   0           1           2           3           4    \\\n",
       "SRR9601002  SRR9601003  SRR9601008  SRR9601009  SRR9601010  SRR2068908   \n",
       "45℃:60min.  45℃:60min.  45℃:60min.  45℃:60min.  45℃:60min.  39℃:60min.   \n",
       "\n",
       "                   5           6           7            8            9    ...  \\\n",
       "SRR9601002  SRR2068909  SRR2068912  SRR2068913  SRR12044994  SRR12044995  ...   \n",
       "45℃:60min.  39℃:60min.  39℃:60min.  39℃:60min.  39℃:180min.  39℃:180min.  ...   \n",
       "\n",
       "                    231          232          233          234          235  \\\n",
       "SRR9601002  SRR11684190  SRR11684182  SRR11684183  SRR11684184  SRR11684185   \n",
       "45℃:60min.   42℃:20min.   42℃:20min.   42℃:20min.   42℃:20min.   42℃:20min.   \n",
       "\n",
       "                    236         237         238         239         240  \n",
       "SRR9601002  SRR11684186  SRR7463322  SRR7463323  SRR7463324  SRR7463325  \n",
       "45℃:60min.   42℃:20min.  43℃:30min.  43℃:30min.  43℃:30min.  43℃:30min.  \n",
       "\n",
       "[2 rows x 241 columns]"
      ]
     },
     "execution_count": 3,
     "metadata": {},
     "output_type": "execute_result"
    }
   ],
   "source": [
    "df_transposed = df.T\n",
    "df_transposed.head()"
   ]
  },
  {
   "cell_type": "code",
   "execution_count": 6,
   "metadata": {},
   "outputs": [],
   "source": [
    "df_transposed.to_csv('./mouse-condition_combined_transposed.csv', index=False)"
   ]
  }
 ],
 "metadata": {
  "kernelspec": {
   "display_name": "Python 3",
   "language": "python",
   "name": "python3"
  },
  "language_info": {
   "codemirror_mode": {
    "name": "ipython",
    "version": 3
   },
   "file_extension": ".py",
   "mimetype": "text/x-python",
   "name": "python",
   "nbconvert_exporter": "python",
   "pygments_lexer": "ipython3",
   "version": "3.11.3"
  },
  "orig_nbformat": 4
 },
 "nbformat": 4,
 "nbformat_minor": 2
}
